{
 "cells": [
  {
   "cell_type": "markdown",
   "id": "3bd0c281-027c-4ad0-ae91-f308f38d5555",
   "metadata": {},
   "source": [
    "Capstone Project \n",
    "Python Fundamentals"
   ]
  },
  {
   "cell_type": "markdown",
   "id": "3fd9034a-a105-4840-a8a6-0120a4f21e98",
   "metadata": {},
   "source": [
    "Task 1\n",
    "There are three different tables as given above. Please make three dataframe in python and save them as three .csv files. From Task 2 to Task 10, use the saved.csv files only."
   ]
  },
  {
   "cell_type": "code",
   "execution_count": 1,
   "id": "6cef7e3b-bd16-47db-8a90-0ace662bfec4",
   "metadata": {},
   "outputs": [
    {
     "name": "stdout",
     "output_type": "stream",
     "text": [
      "CSV files created: Employee.csv, Seniority_Level.csv, Project.csv\n"
     ]
    }
   ],
   "source": [
    "# Import the pandas library, which provides data structures and data analysis tools for Python\n",
    "import pandas as pd\n",
    "\n",
    "# Define data for the Employee DataFrame as a dictionary\n",
    "employee_data = {\n",
    "    'ID': ['A001', 'A002', 'A003', 'A004', 'A005'],  # Unique identifier for each employee\n",
    "    'Name': ['John Alter', 'Alice Luxumberg', 'Tom Sabestine', 'Nina Adgra', 'Amy Johny'],  # Full name of the employee\n",
    "    'Gender': ['M', 'F', 'M', 'F', 'F'],  # Gender of the employee: 'M' for Male, 'F' for Female\n",
    "    'City': ['Paris', 'London', 'Berlin', 'Newyork', 'Madrid'],  # City where the employee is based\n",
    "    'Age': [25, 27, 29, 31, 30]  # Age of the employee\n",
    "}\n",
    "\n",
    "# Create the Employee DataFrame using the employee_data dictionary\n",
    "employee_df = pd.DataFrame(employee_data)\n",
    "\n",
    "# Save the Employee DataFrame to a CSV file named 'Employee.csv', without including the index column\n",
    "employee_df.to_csv('Employee.csv', index=False)\n",
    "\n",
    "# Define data for the Seniority Level DataFrame as a dictionary\n",
    "seniority_data = {\n",
    "    'ID': ['A001', 'A002', 'A003', 'A004', 'A005'],  # Unique identifier for each employee (matches Employee DataFrame)\n",
    "    'Designation Level': [2, 2, 3, 2, 3]  # Designation level of the employee (1 = highest, 4 = lowest)\n",
    "}\n",
    "\n",
    "# Create the Seniority Level DataFrame using the seniority_data dictionary\n",
    "seniority_df = pd.DataFrame(seniority_data)\n",
    "\n",
    "# Save the Seniority Level DataFrame to a CSV file named 'Seniority_Level.csv', without including the index column\n",
    "seniority_df.to_csv('Seniority_Level.csv', index=False)\n",
    "\n",
    "# Define data for the Project DataFrame as a dictionary\n",
    "project_data = {\n",
    "    'ID': ['A001', 'A002', 'A003', 'A004', 'A005', 'A002', 'A005', 'A003', 'A001', 'A003', \n",
    "           'A001', 'A004', 'A004', 'A005'],  # Unique identifier for each employee managing the project\n",
    "    'Project': ['Project 1', 'Project 2', 'Project 3', 'Project 4', 'Project 5', \n",
    "                'Project 6', 'Project 7', 'Project 8', 'Project 9', 'Project 10', \n",
    "                'Project 11', 'Project 12', 'Project 13', 'Project 14'],  # Name of the project\n",
    "    'Cost': [1002000, 2000000, 4500000, 5500000, None, 680000, 400000, 350000, None, 300000, \n",
    "             2000000, 1000000, 3000000, 200000],  # Project cost, with some missing values represented by 'None'\n",
    "    'Status': ['Finished', 'Ongoing', 'Finished', 'Ongoing', 'Finished', 'Failed', \n",
    "               'Finished', 'Failed', 'Ongoing', 'Finished', 'Failed', 'Ongoing', \n",
    "               'Finished', 'Finished']  # Status of the project, such as Finished, Ongoing, or Failed\n",
    "}\n",
    "\n",
    "# Create the Project DataFrame using the project_data dictionary\n",
    "project_df = pd.DataFrame(project_data)\n",
    "\n",
    "# Save the Project DataFrame to a CSV file named 'Project.csv', without including the index column\n",
    "project_df.to_csv('Project.csv', index=False)\n",
    "\n",
    "# Print a confirmation message indicating that all CSV files have been created\n",
    "print(\"CSV files created: Employee.csv, Seniority_Level.csv, Project.csv\")"
   ]
  },
  {
   "cell_type": "markdown",
   "id": "64ed0c12-2b86-475d-94d5-680e55f5ed5a",
   "metadata": {},
   "source": [
    "Task 2\n",
    "The cost column in the dataframe “Project” has some missing values. Your task is to compute these missing values. Replace the missing values by running average. You should use the “For” loop for this task."
   ]
  },
  {
   "cell_type": "code",
   "execution_count": 2,
   "id": "3891122c-c436-49c6-a78a-62508286a915",
   "metadata": {},
   "outputs": [
    {
     "name": "stdout",
     "output_type": "stream",
     "text": [
      "      ID     Project          Cost    Status\n",
      "0   A001   Project 1  1.002000e+06  Finished\n",
      "1   A002   Project 2  2.000000e+06   Ongoing\n",
      "2   A003   Project 3  4.500000e+06  Finished\n",
      "3   A004   Project 4  5.500000e+06   Ongoing\n",
      "4   A005   Project 5  3.250500e+06  Finished\n",
      "5   A002   Project 6  6.800000e+05    Failed\n",
      "6   A005   Project 7  4.000000e+05  Finished\n",
      "7   A003   Project 8  3.500000e+05    Failed\n",
      "8   A001   Project 9  2.061714e+06   Ongoing\n",
      "9   A003  Project 10  3.000000e+05  Finished\n",
      "10  A001  Project 11  2.000000e+06    Failed\n",
      "11  A004  Project 12  1.000000e+06   Ongoing\n",
      "12  A004  Project 13  3.000000e+06  Finished\n",
      "13  A005  Project 14  2.000000e+05  Finished\n"
     ]
    }
   ],
   "source": [
    "# Import necessary libraries\n",
    "import pandas as pd\n",
    "\n",
    "# Load the Project DataFrame from the saved CSV file\n",
    "project_df = pd.read_csv('Project.csv')\n",
    "\n",
    "# Initialize a variable to store the running total and count for computing the running average\n",
    "running_total = 0\n",
    "count = 0\n",
    "\n",
    "# Iterate through each row in the DataFrame\n",
    "for index, row in project_df.iterrows():\n",
    "    if pd.notna(row['Cost']):  # Check if the Cost value is not missing\n",
    "        running_total += row['Cost']  # Add the current cost to the running total\n",
    "        count += 1  # Increment the count of non-missing values\n",
    "    else:\n",
    "        # Calculate the running average and assign it to the missing cost\n",
    "        project_df.at[index, 'Cost'] = running_total / count  # Fill missing value with the running average\n",
    "\n",
    "# Save the modified DataFrame back to CSV (optional, for later tasks)\n",
    "project_df.to_csv('Project_Filled.csv', index=False)\n",
    "\n",
    "# Display the updated DataFrame\n",
    "print(project_df)"
   ]
  },
  {
   "cell_type": "markdown",
   "id": "b971d4a5-9afd-41ce-8f4f-6574ef3e674a",
   "metadata": {},
   "source": [
    "Task 3\n",
    "Split the name column in the Employee dataframe into two new columns “First Name” \n",
    "and “LastName” and remove the older “name” column."
   ]
  },
  {
   "cell_type": "code",
   "execution_count": 3,
   "id": "e477ed26-4f1b-4b8c-ad83-4fccb81943aa",
   "metadata": {},
   "outputs": [
    {
     "name": "stdout",
     "output_type": "stream",
     "text": [
      "     ID Gender     City  Age First Name  Last Name\n",
      "0  A001      M    Paris   25       John      Alter\n",
      "1  A002      F   London   27      Alice  Luxumberg\n",
      "2  A003      M   Berlin   29        Tom  Sabestine\n",
      "3  A004      F  Newyork   31       Nina      Adgra\n",
      "4  A005      F   Madrid   30        Amy      Johny\n"
     ]
    }
   ],
   "source": [
    "# Import necessary libraries\n",
    "import pandas as pd\n",
    "\n",
    "# Load the Employee DataFrame from the saved CSV file\n",
    "employee_df = pd.read_csv('Employee.csv')\n",
    "\n",
    "# Ensure all values in the 'Name' column are strings, then split into 'First Name' and 'Last Name'\n",
    "employee_df['Name'] = employee_df['Name'].astype(str)  # Convert values to strings if they aren't already\n",
    "employee_df[['First Name', 'Last Name']] = employee_df['Name'].str.split(' ', n=1, expand=True)\n",
    "\n",
    "# Drop the original 'Name' column as it is no longer needed\n",
    "employee_df = employee_df.drop(columns=['Name'])\n",
    "\n",
    "# Save the updated DataFrame back to CSV (optional, for later tasks)\n",
    "employee_df.to_csv('Employee_Split.csv', index=False)\n",
    "\n",
    "# Display the updated DataFrame\n",
    "print(employee_df)"
   ]
  },
  {
   "cell_type": "markdown",
   "id": "0ed643cd-711d-41b1-a4bf-c3e128639db3",
   "metadata": {},
   "source": [
    "Task 4\n",
    "Join all three dataframes in one single dataframe. Name it “Final”"
   ]
  },
  {
   "cell_type": "code",
   "execution_count": 4,
   "id": "97563b49-1bb3-4874-91d5-896c6515a77a",
   "metadata": {},
   "outputs": [
    {
     "name": "stdout",
     "output_type": "stream",
     "text": [
      "      ID Gender     City  Age First Name  Last Name  Designation Level  \\\n",
      "0   A001      M    Paris   25       John      Alter                  2   \n",
      "1   A001      M    Paris   25       John      Alter                  2   \n",
      "2   A001      M    Paris   25       John      Alter                  2   \n",
      "3   A002      F   London   27      Alice  Luxumberg                  2   \n",
      "4   A002      F   London   27      Alice  Luxumberg                  2   \n",
      "5   A003      M   Berlin   29        Tom  Sabestine                  3   \n",
      "6   A003      M   Berlin   29        Tom  Sabestine                  3   \n",
      "7   A003      M   Berlin   29        Tom  Sabestine                  3   \n",
      "8   A004      F  Newyork   31       Nina      Adgra                  2   \n",
      "9   A004      F  Newyork   31       Nina      Adgra                  2   \n",
      "10  A004      F  Newyork   31       Nina      Adgra                  2   \n",
      "11  A005      F   Madrid   30        Amy      Johny                  3   \n",
      "12  A005      F   Madrid   30        Amy      Johny                  3   \n",
      "13  A005      F   Madrid   30        Amy      Johny                  3   \n",
      "\n",
      "       Project          Cost    Status  \n",
      "0    Project 1  1.002000e+06  Finished  \n",
      "1    Project 9  2.061714e+06   Ongoing  \n",
      "2   Project 11  2.000000e+06    Failed  \n",
      "3    Project 2  2.000000e+06   Ongoing  \n",
      "4    Project 6  6.800000e+05    Failed  \n",
      "5    Project 3  4.500000e+06  Finished  \n",
      "6    Project 8  3.500000e+05    Failed  \n",
      "7   Project 10  3.000000e+05  Finished  \n",
      "8    Project 4  5.500000e+06   Ongoing  \n",
      "9   Project 12  1.000000e+06   Ongoing  \n",
      "10  Project 13  3.000000e+06  Finished  \n",
      "11   Project 5  3.250500e+06  Finished  \n",
      "12   Project 7  4.000000e+05  Finished  \n",
      "13  Project 14  2.000000e+05  Finished  \n"
     ]
    }
   ],
   "source": [
    "# Import necessary libraries\n",
    "import pandas as pd\n",
    "\n",
    "# Load the Employee, Seniority Level, and Project DataFrames from their respective CSV files\n",
    "employee_df = pd.read_csv('Employee_Split.csv')  # Updated Employee DataFrame with separate First and Last Name columns\n",
    "seniority_df = pd.read_csv('Seniority_Level.csv')\n",
    "project_df = pd.read_csv('Project_Filled.csv')  # Updated Project DataFrame with missing costs filled\n",
    "\n",
    "# Step 1: Merge Employee and Seniority Level DataFrames on the 'ID' column (common key)\n",
    "# Using an inner join to keep only the matching records in both DataFrames\n",
    "merged_df_1 = pd.merge(employee_df, seniority_df, on='ID', how='inner')\n",
    "\n",
    "# Step 2: Merge the above result with the Project DataFrame on the 'ID' column to form the final DataFrame\n",
    "# Using inner join again to ensure only matched records across all tables are included\n",
    "final_df = pd.merge(merged_df_1, project_df, on='ID', how='inner')\n",
    "\n",
    "# Save the Final DataFrame to a CSV file for further tasks\n",
    "final_df.to_csv('Final.csv', index=False)\n",
    "\n",
    "# Display the Final DataFrame\n",
    "print(final_df)"
   ]
  },
  {
   "cell_type": "markdown",
   "id": "4c66d207-0756-4d88-8d7c-f98d84986d0b",
   "metadata": {},
   "source": [
    "Task 5\n",
    "Add a new bonus column in the Final dataframe. Give a 5% bonus concerning projec \n",
    "cost only to employees who have finished the project.\n"
   ]
  },
  {
   "cell_type": "code",
   "execution_count": 5,
   "id": "0da651de-f7f4-45ba-9d05-cf126c88c228",
   "metadata": {},
   "outputs": [
    {
     "name": "stdout",
     "output_type": "stream",
     "text": [
      "      ID Gender     City  Age First Name  Last Name  Designation Level  \\\n",
      "0   A001      M    Paris   25       John      Alter                  2   \n",
      "1   A001      M    Paris   25       John      Alter                  2   \n",
      "2   A001      M    Paris   25       John      Alter                  2   \n",
      "3   A002      F   London   27      Alice  Luxumberg                  2   \n",
      "4   A002      F   London   27      Alice  Luxumberg                  2   \n",
      "5   A003      M   Berlin   29        Tom  Sabestine                  3   \n",
      "6   A003      M   Berlin   29        Tom  Sabestine                  3   \n",
      "7   A003      M   Berlin   29        Tom  Sabestine                  3   \n",
      "8   A004      F  Newyork   31       Nina      Adgra                  2   \n",
      "9   A004      F  Newyork   31       Nina      Adgra                  2   \n",
      "10  A004      F  Newyork   31       Nina      Adgra                  2   \n",
      "11  A005      F   Madrid   30        Amy      Johny                  3   \n",
      "12  A005      F   Madrid   30        Amy      Johny                  3   \n",
      "13  A005      F   Madrid   30        Amy      Johny                  3   \n",
      "\n",
      "       Project          Cost    Status     Bonus  \n",
      "0    Project 1  1.002000e+06  Finished   50100.0  \n",
      "1    Project 9  2.061714e+06   Ongoing       0.0  \n",
      "2   Project 11  2.000000e+06    Failed       0.0  \n",
      "3    Project 2  2.000000e+06   Ongoing       0.0  \n",
      "4    Project 6  6.800000e+05    Failed       0.0  \n",
      "5    Project 3  4.500000e+06  Finished  225000.0  \n",
      "6    Project 8  3.500000e+05    Failed       0.0  \n",
      "7   Project 10  3.000000e+05  Finished   15000.0  \n",
      "8    Project 4  5.500000e+06   Ongoing       0.0  \n",
      "9   Project 12  1.000000e+06   Ongoing       0.0  \n",
      "10  Project 13  3.000000e+06  Finished  150000.0  \n",
      "11   Project 5  3.250500e+06  Finished  162525.0  \n",
      "12   Project 7  4.000000e+05  Finished   20000.0  \n",
      "13  Project 14  2.000000e+05  Finished   10000.0  \n"
     ]
    }
   ],
   "source": [
    "# Import necessary libraries\n",
    "import pandas as pd\n",
    "\n",
    "# Load the Final DataFrame from the saved CSV file\n",
    "final_df = pd.read_csv('Final.csv')\n",
    "\n",
    "# Add a new 'Bonus' column where 5% of the 'Cost' is calculated only for 'Finished' projects\n",
    "final_df['Bonus'] = final_df.apply(lambda row: row['Cost'] * 0.05 if row['Status'] == 'Finished' else 0, axis=1)\n",
    "\n",
    "# Save the updated Final DataFrame with the new Bonus column\n",
    "final_df.to_csv('Final_with_Bonus.csv', index=False)\n",
    "\n",
    "# Display the updated Final DataFrame\n",
    "print(final_df)"
   ]
  },
  {
   "cell_type": "markdown",
   "id": "10140a9b-a75c-499b-aee8-c001e688d10a",
   "metadata": {},
   "source": [
    "Task 6\n",
    "Demote the designation level by 1, whose projects have status “fail”. Delete the employees record whose designation level is above 4."
   ]
  },
  {
   "cell_type": "code",
   "execution_count": 11,
   "id": "ff555153-5ef9-4eda-b58e-8ea3c8e54834",
   "metadata": {},
   "outputs": [
    {
     "name": "stdout",
     "output_type": "stream",
     "text": [
      "      ID Gender     City  Age First Name  Last Name  Designation Level  \\\n",
      "0   A001      M    Paris   25       John      Alter                  2   \n",
      "1   A001      M    Paris   25       John      Alter                  2   \n",
      "2   A001      M    Paris   25       John      Alter                  3   \n",
      "3   A002      F   London   27      Alice  Luxumberg                  2   \n",
      "4   A002      F   London   27      Alice  Luxumberg                  3   \n",
      "5   A003      M   Berlin   29        Tom  Sabestine                  3   \n",
      "6   A003      M   Berlin   29        Tom  Sabestine                  4   \n",
      "7   A003      M   Berlin   29        Tom  Sabestine                  3   \n",
      "8   A004      F  Newyork   31       Nina      Adgra                  2   \n",
      "9   A004      F  Newyork   31       Nina      Adgra                  2   \n",
      "10  A004      F  Newyork   31       Nina      Adgra                  2   \n",
      "11  A005      F   Madrid   30        Amy      Johny                  3   \n",
      "12  A005      F   Madrid   30        Amy      Johny                  3   \n",
      "13  A005      F   Madrid   30        Amy      Johny                  3   \n",
      "\n",
      "       Project          Cost    Status  \n",
      "0    Project 1  1.002000e+06  Finished  \n",
      "1    Project 9  2.061714e+06   Ongoing  \n",
      "2   Project 11  2.000000e+06    Failed  \n",
      "3    Project 2  2.000000e+06   Ongoing  \n",
      "4    Project 6  6.800000e+05    Failed  \n",
      "5    Project 3  4.500000e+06  Finished  \n",
      "6    Project 8  3.500000e+05    Failed  \n",
      "7   Project 10  3.000000e+05  Finished  \n",
      "8    Project 4  5.500000e+06   Ongoing  \n",
      "9   Project 12  1.000000e+06   Ongoing  \n",
      "10  Project 13  3.000000e+06  Finished  \n",
      "11   Project 5  3.250500e+06  Finished  \n",
      "12   Project 7  4.000000e+05  Finished  \n",
      "13  Project 14  2.000000e+05  Finished  \n"
     ]
    }
   ],
   "source": [
    "# Import necessary libraries \n",
    "import pandas as pd\n",
    "\n",
    "# Load the Final DataFrame from the saved CSV file\n",
    "final_df = pd.read_csv('Final.csv')\n",
    "\n",
    "# Step 1: Demote designation level by 1 (increase by 1) for \"Failed\" projects\n",
    "final_df['Designation Level'] = final_df.apply(\n",
    "    lambda row: row['Designation Level'] + 1 if row['Status'] == 'Failed' else row['Designation Level'], axis=1\n",
    ")\n",
    "\n",
    "# Step 2: Remove employees with a designation level above 4\n",
    "final_df = final_df[final_df['Designation Level'] <= 4]\n",
    "\n",
    "# Save the updated Final DataFrame with demotions applied and deletions handled\n",
    "final_df.to_csv('Final_with_Demotions.csv', index=False)\n",
    "\n",
    "# Display the updated DataFrame\n",
    "print(final_df)"
   ]
  },
  {
   "cell_type": "markdown",
   "id": "2a7764db-e55f-40d6-8614-bc28d84930e4",
   "metadata": {},
   "source": [
    "Task 7\n",
    "Add “Mr.” and “Mrs.” to the first name column and drop the gender column\n"
   ]
  },
  {
   "cell_type": "code",
   "execution_count": 7,
   "id": "6bba2856-459a-4458-b5fe-31e38da71501",
   "metadata": {},
   "outputs": [
    {
     "name": "stdout",
     "output_type": "stream",
     "text": [
      "      ID     City  Age  First Name  Last Name  Designation Level     Project  \\\n",
      "0   A001    Paris   25    Mr. John      Alter                  2   Project 1   \n",
      "1   A001    Paris   25    Mr. John      Alter                  2   Project 9   \n",
      "2   A001    Paris   25    Mr. John      Alter                  1  Project 11   \n",
      "3   A002   London   27  Mrs. Alice  Luxumberg                  2   Project 2   \n",
      "4   A002   London   27  Mrs. Alice  Luxumberg                  1   Project 6   \n",
      "5   A003   Berlin   29     Mr. Tom  Sabestine                  3   Project 3   \n",
      "6   A003   Berlin   29     Mr. Tom  Sabestine                  2   Project 8   \n",
      "7   A003   Berlin   29     Mr. Tom  Sabestine                  3  Project 10   \n",
      "8   A004  Newyork   31   Mrs. Nina      Adgra                  2   Project 4   \n",
      "9   A004  Newyork   31   Mrs. Nina      Adgra                  2  Project 12   \n",
      "10  A004  Newyork   31   Mrs. Nina      Adgra                  2  Project 13   \n",
      "11  A005   Madrid   30    Mrs. Amy      Johny                  3   Project 5   \n",
      "12  A005   Madrid   30    Mrs. Amy      Johny                  3   Project 7   \n",
      "13  A005   Madrid   30    Mrs. Amy      Johny                  3  Project 14   \n",
      "\n",
      "            Cost    Status  \n",
      "0   1.002000e+06  Finished  \n",
      "1   2.061714e+06   Ongoing  \n",
      "2   2.000000e+06    Failed  \n",
      "3   2.000000e+06   Ongoing  \n",
      "4   6.800000e+05    Failed  \n",
      "5   4.500000e+06  Finished  \n",
      "6   3.500000e+05    Failed  \n",
      "7   3.000000e+05  Finished  \n",
      "8   5.500000e+06   Ongoing  \n",
      "9   1.000000e+06   Ongoing  \n",
      "10  3.000000e+06  Finished  \n",
      "11  3.250500e+06  Finished  \n",
      "12  4.000000e+05  Finished  \n",
      "13  2.000000e+05  Finished  \n"
     ]
    }
   ],
   "source": [
    "# Import necessary libraries\n",
    "import pandas as pd\n",
    "\n",
    "# Load the Final DataFrame from the saved CSV file\n",
    "final_df = pd.read_csv('Final_with_Demotions.csv')\n",
    "\n",
    "# Step 1: Add \"Mr.\" or \"Mrs.\" prefix to \"First Name\" based on \"Gender\"\n",
    "final_df['First Name'] = final_df.apply(\n",
    "    lambda row: \"Mr. \" + row['First Name'] if row['Gender'] == 'M' else \"Mrs. \" + row['First Name'], axis=1\n",
    ")\n",
    "\n",
    "# Step 2: Drop the \"Gender\" column as it is no longer needed\n",
    "final_df = final_df.drop(columns=['Gender'])\n",
    "\n",
    "# Save the updated Final DataFrame with the prefixes added and the gender column removed\n",
    "final_df.to_csv('Final_with_Prefix.csv', index=False)\n",
    "\n",
    "# Display the updated DataFrame\n",
    "print(final_df)"
   ]
  },
  {
   "cell_type": "markdown",
   "id": "ee165979-d4a9-4c4d-bd8d-ee95e61b395e",
   "metadata": {},
   "source": [
    "Task 8\n",
    "Promote designation level by 1 for the employees whose age is more than 29 years usin \n",
    "IF condition."
   ]
  },
  {
   "cell_type": "code",
   "execution_count": 8,
   "id": "d212b8dd-ee15-476d-8f15-781ebc997bea",
   "metadata": {},
   "outputs": [
    {
     "name": "stdout",
     "output_type": "stream",
     "text": [
      "      ID     City  Age  First Name  Last Name  Designation Level     Project  \\\n",
      "0   A001    Paris   25    Mr. John      Alter                  2   Project 1   \n",
      "1   A001    Paris   25    Mr. John      Alter                  2   Project 9   \n",
      "2   A001    Paris   25    Mr. John      Alter                  1  Project 11   \n",
      "3   A002   London   27  Mrs. Alice  Luxumberg                  2   Project 2   \n",
      "4   A002   London   27  Mrs. Alice  Luxumberg                  1   Project 6   \n",
      "5   A003   Berlin   29     Mr. Tom  Sabestine                  3   Project 3   \n",
      "6   A003   Berlin   29     Mr. Tom  Sabestine                  2   Project 8   \n",
      "7   A003   Berlin   29     Mr. Tom  Sabestine                  3  Project 10   \n",
      "8   A004  Newyork   31   Mrs. Nina      Adgra                  1   Project 4   \n",
      "9   A004  Newyork   31   Mrs. Nina      Adgra                  1  Project 12   \n",
      "10  A004  Newyork   31   Mrs. Nina      Adgra                  1  Project 13   \n",
      "11  A005   Madrid   30    Mrs. Amy      Johny                  2   Project 5   \n",
      "12  A005   Madrid   30    Mrs. Amy      Johny                  2   Project 7   \n",
      "13  A005   Madrid   30    Mrs. Amy      Johny                  2  Project 14   \n",
      "\n",
      "            Cost    Status  \n",
      "0   1.002000e+06  Finished  \n",
      "1   2.061714e+06   Ongoing  \n",
      "2   2.000000e+06    Failed  \n",
      "3   2.000000e+06   Ongoing  \n",
      "4   6.800000e+05    Failed  \n",
      "5   4.500000e+06  Finished  \n",
      "6   3.500000e+05    Failed  \n",
      "7   3.000000e+05  Finished  \n",
      "8   5.500000e+06   Ongoing  \n",
      "9   1.000000e+06   Ongoing  \n",
      "10  3.000000e+06  Finished  \n",
      "11  3.250500e+06  Finished  \n",
      "12  4.000000e+05  Finished  \n",
      "13  2.000000e+05  Finished  \n"
     ]
    }
   ],
   "source": [
    "# Import necessary libraries\n",
    "import pandas as pd\n",
    "\n",
    "# Load the Final DataFrame from the saved CSV file\n",
    "final_df = pd.read_csv('Final_with_Prefix.csv')\n",
    "\n",
    "# Step 1: Promote designation level by 1 for employees older than 29\n",
    "final_df['Designation Level'] = final_df.apply(\n",
    "    lambda row: row['Designation Level'] - 1 if row['Age'] > 29 and row['Designation Level'] > 1 else row['Designation Level'], axis=1\n",
    ")\n",
    "\n",
    "# Save the updated Final DataFrame with promotions applied\n",
    "final_df.to_csv('Final_with_Promotions.csv', index=False)\n",
    "\n",
    "# Display the updated DataFrame\n",
    "print(final_df)"
   ]
  },
  {
   "cell_type": "markdown",
   "id": "7099fba9-b2f1-4dea-8f0e-a6d92bc64365",
   "metadata": {},
   "source": [
    "Task 9\n",
    "Add the cost of all projects for each Employee and save it in new datafram \n",
    "“TotalProjCost” with three columns ID, First Name, and Total cost"
   ]
  },
  {
   "cell_type": "code",
   "execution_count": 9,
   "id": "d6d4d53c-4161-404f-a166-41b0ac0961ac",
   "metadata": {},
   "outputs": [
    {
     "name": "stdout",
     "output_type": "stream",
     "text": [
      "     ID  First Name    Total Cost\n",
      "0  A001    Mr. John  5.063714e+06\n",
      "1  A002  Mrs. Alice  2.680000e+06\n",
      "2  A003     Mr. Tom  5.150000e+06\n",
      "3  A004   Mrs. Nina  9.500000e+06\n",
      "4  A005    Mrs. Amy  3.850500e+06\n"
     ]
    }
   ],
   "source": [
    "# Import necessary libraries\n",
    "import pandas as pd\n",
    "\n",
    "# Load the Final DataFrame from the saved CSV file\n",
    "final_df = pd.read_csv('Final_with_Promotions.csv')\n",
    "\n",
    "# Step 1: Group by 'ID' and 'First Name' and sum the 'Cost' column for each employee\n",
    "total_cost_df = final_df.groupby(['ID', 'First Name'], as_index=False)['Cost'].sum()\n",
    "\n",
    "# Step 2: Rename the 'Cost' column to 'Total Cost' for clarity\n",
    "total_cost_df = total_cost_df.rename(columns={'Cost': 'Total Cost'})\n",
    "\n",
    "# Save the TotalProjCost DataFrame to a new CSV file\n",
    "total_cost_df.to_csv('TotalProjCost.csv', index=False)\n",
    "\n",
    "# Display the TotalProjCost DataFrame\n",
    "print(total_cost_df)"
   ]
  },
  {
   "cell_type": "markdown",
   "id": "56546edc-e475-47d9-8afc-43c5cfafebe0",
   "metadata": {},
   "source": [
    "Task 10\n",
    "Print all the employee details whose city name contains the letter “o” in it."
   ]
  },
  {
   "cell_type": "code",
   "execution_count": 10,
   "id": "a1274016-e0e5-461b-b1e9-85928b65f46a",
   "metadata": {},
   "outputs": [
    {
     "name": "stdout",
     "output_type": "stream",
     "text": [
      "      ID     City  Age  First Name  Last Name  Designation Level     Project  \\\n",
      "3   A002   London   27  Mrs. Alice  Luxumberg                  2   Project 2   \n",
      "4   A002   London   27  Mrs. Alice  Luxumberg                  1   Project 6   \n",
      "8   A004  Newyork   31   Mrs. Nina      Adgra                  1   Project 4   \n",
      "9   A004  Newyork   31   Mrs. Nina      Adgra                  1  Project 12   \n",
      "10  A004  Newyork   31   Mrs. Nina      Adgra                  1  Project 13   \n",
      "\n",
      "         Cost    Status  \n",
      "3   2000000.0   Ongoing  \n",
      "4    680000.0    Failed  \n",
      "8   5500000.0   Ongoing  \n",
      "9   1000000.0   Ongoing  \n",
      "10  3000000.0  Finished  \n"
     ]
    }
   ],
   "source": [
    "# Import necessary libraries\n",
    "import pandas as pd\n",
    "\n",
    "# Load the Final DataFrame from the saved CSV file\n",
    "final_df = pd.read_csv('Final_with_Promotions.csv')\n",
    "\n",
    "# Step 1: Filter rows where the 'City' column contains the letter 'o'\n",
    "employees_with_o_in_city = final_df[final_df['City'].str.contains('o', case=False)]\n",
    "\n",
    "# Display the filtered DataFrame\n",
    "print(employees_with_o_in_city)"
   ]
  }
 ],
 "metadata": {
  "kernelspec": {
   "display_name": "base",
   "language": "python",
   "name": "python3"
  },
  "language_info": {
   "codemirror_mode": {
    "name": "ipython",
    "version": 3
   },
   "file_extension": ".py",
   "mimetype": "text/x-python",
   "name": "python",
   "nbconvert_exporter": "python",
   "pygments_lexer": "ipython3",
   "version": "3.12.4"
  }
 },
 "nbformat": 4,
 "nbformat_minor": 5
}
