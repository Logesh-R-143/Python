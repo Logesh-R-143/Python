{
 "cells": [
  {
   "cell_type": "markdown",
   "metadata": {
    "delateable": false,
    "editable": false
   },
   "source": [
    "# <div class=\"alert alert-block alert-info\"> <span style=\"font-family: Times New Roman\">Assignment on python fundamentals</span> </div>\n"
   ]
  },
  {
   "cell_type": "markdown",
   "metadata": {
    "delateable": false,
    "editable": false
   },
   "source": [
    "###### Note: \n",
    "<div class=\"alert alert-block alert-danger\"> <span style=\"font-family: Times New Roman\"> \n",
    "    - Kindly use this notebook to solve the programming problems. <br>\n",
    "- Submit assignments with .ipynb file extension only.<br>\n",
    "- Kindly use comments or markdowns to explain logic behind the codes, approach to solve the problem.</span></div>"
   ]
  },
  {
   "cell_type": "markdown",
   "metadata": {
    "delateable": false,
    "editable": false
   },
   "source": [
    "<div class=\"warning\" style='padding:0.1em; background-color:#E9D8FD; color:#69337A'>\n",
    "<span>\n",
    "<p style='margin-top:1em; text-align:left'>\n",
    "<b>1. By using a single 'print' function print the provided string in specified execution format. </b></p>\n",
    "    \n",
    "Hello World     \n",
    "Welcome to 'Python' Programming\n",
    "\n"
   ]
  },
  {
   "cell_type": "code",
   "execution_count": 1,
   "metadata": {},
   "outputs": [
    {
     "name": "stdout",
     "output_type": "stream",
     "text": [
      "Hello World\n",
      "Welcome to 'Python' Programming\n"
     ]
    }
   ],
   "source": [
    "#start your code here\n",
    "# This line of code prints two lines of text to the console.\n",
    "# The `\\n` character is used to create a line break between \"Hello World\" and \"Welcome to 'Python' Programming\".\n",
    "# Text inside double quotes allows for the inclusion of single quotes without any issues.\n",
    "print(\"Hello World\\nWelcome to 'Python' Programming\")"
   ]
  },
  {
   "cell_type": "markdown",
   "metadata": {
    "delateable": false,
    "editable": false
   },
   "source": [
    "<div class=\"warning\" style='padding:0.1em; background-color:#E9D8FD; color:#69337A'>\n",
    "<span>\n",
    "<p style='margin-top:1em; text-align:left'>\n",
    "<b>2. Check the python version which you are using. </b></p>\n",
    "</span></div>\n"
   ]
  },
  {
   "cell_type": "code",
   "execution_count": 2,
   "metadata": {},
   "outputs": [
    {
     "name": "stdout",
     "output_type": "stream",
     "text": [
      "Python version: 3.12.4 | packaged by Anaconda, Inc. | (main, Jun 18 2024, 15:03:56) [MSC v.1929 64 bit (AMD64)]\n"
     ]
    }
   ],
   "source": [
    "#start your code here\n",
    "import sys\n",
    "\n",
    "# Get the current Python version\n",
    "python_version = sys.version\n",
    "\n",
    "print(\"Python version:\", python_version)"
   ]
  },
  {
   "cell_type": "markdown",
   "metadata": {
    "delateable": false,
    "editable": false
   },
   "source": [
    "<div class=\"warning\" style='padding:0.1em; background-color:#E9D8FD; color:#69337A'>\n",
    "<span>\n",
    "<p style='margin-top:1em; text-align:left'>\n",
    "<b>3. Design a Python program which can calculate the area by taking radius as input by 'user input' method. </b></p>\n",
    "<table>\n",
    "  <tr>\n",
    "  <td><td>\n",
    "      <br> instead of giving direct values try using \"<b>float(input())</b>\" </td>\n",
    "  </tr>\n",
    "</table>\n",
    "</span>\n",
    "</div>\n"
   ]
  },
  {
   "cell_type": "code",
   "execution_count": 6,
   "metadata": {},
   "outputs": [
    {
     "name": "stdout",
     "output_type": "stream",
     "text": [
      "The area of the circle with radius 150.0 is 70685.83\n"
     ]
    }
   ],
   "source": [
    "#start your code here\n",
    "import math\n",
    "\n",
    "# Get the radius from user input\n",
    "radius = float(input(\"Enter the radius of the circle: \"))\n",
    "\n",
    "# Calculate the area of the circle (Area = π * r^2)\n",
    "area = math.pi * radius ** 2\n",
    "\n",
    "# Display the result\n",
    "print(f\"The area of the circle with radius {radius} is {area:.2f}\")"
   ]
  },
  {
   "cell_type": "markdown",
   "metadata": {
    "delateable": false,
    "editable": false
   },
   "source": [
    "<div class=\"warning\" style='padding:0.1em; background-color:#E9D8FD; color:#69337A'>\n",
    "<span>\n",
    "<p style='margin-top:1em; text-align:left'>\n",
    "<b>4. Write a python program which can take your first and last name seperately and execute as shown below. </b></p>\n",
    "<table>\n",
    "  <tr>\n",
    "  <td><td>\n",
    "      <br><b>Sample execution</b> : Hello 'first name' 'last name', hope you are doing good</td>\n",
    "  </tr>\n",
    "</table>\n",
    "</span></div>\n"
   ]
  },
  {
   "cell_type": "code",
   "execution_count": 7,
   "metadata": {},
   "outputs": [
    {
     "name": "stdout",
     "output_type": "stream",
     "text": [
      "Hello 'logesh' 'R', hope you are doing good\n"
     ]
    }
   ],
   "source": [
    "#start your code here\n",
    "# Get the first name from user input\n",
    "first_name = input(\"Enter your first name: \")\n",
    "\n",
    "# Get the last name from user input\n",
    "last_name = input(\"Enter your last name: \")\n",
    "\n",
    "# Display the greeting message\n",
    "print(f\"Hello '{first_name}' '{last_name}', hope you are doing good\")"
   ]
  },
  {
   "cell_type": "markdown",
   "metadata": {
    "delateable": false,
    "editable": false
   },
   "source": [
    "<div class=\"warning\" style='padding:0.1em; background-color:#E9D8FD; color:#69337A'>\n",
    "<span>\n",
    "<p style='margin-top:1em; text-align:left'>\n",
    "<b>5. Write a python program which can convert kilograms to grams.</b></p>\n",
    "</span></div>\n",
    "\n"
   ]
  },
  {
   "cell_type": "code",
   "execution_count": 8,
   "metadata": {},
   "outputs": [
    {
     "name": "stdout",
     "output_type": "stream",
     "text": [
      "500.0 kilograms is equal to 500000.0 grams.\n"
     ]
    }
   ],
   "source": [
    "#start your code here\n",
    "# Get the weight in kilograms from user input\n",
    "kilograms = float(input(\"Enter weight in kilograms: \"))\n",
    "\n",
    "# Convert kilograms to grams (1 kg = 1000 grams)\n",
    "grams = kilograms * 1000\n",
    "\n",
    "# Display the result\n",
    "print(f\"{kilograms} kilograms is equal to {grams} grams.\")"
   ]
  },
  {
   "cell_type": "markdown",
   "metadata": {
    "delateable": false,
    "editable": false
   },
   "source": [
    "<div class=\"warning\" style='padding:0.1em; background-color:#E9D8FD; color:#69337A'>\n",
    "<span>\n",
    "<p style='margin-top:1em; text-align:left'>\n",
    "<b>6. Create a list and store the given elements in the list, and solve the following questions listed below.</b></p>\n",
    "<table>\n",
    "  <tr>\n",
    "  <td><td>\n",
    "      <br><b>Elements</b>: 'Bengaluru','New York', 1971, '1682', (1,2,3,4,5,'Is this tuple?'),\"'Hello,welcome to Python Programming'\"</td>\n",
    "  </tr>\n",
    "</table>\n",
    "</span>  \n",
    "\n",
    "- Try to extract entire tuple by using positive indexing  \n",
    "- Can we add elements into tuple after creating it?\n",
    "- Remove '1682' and 'New York' from the list\n",
    "- Discuss one practical application of tuple and lists\n",
    "- Access 'Bengaluru' by Negitive indexing\n",
    "- add 'Mumbai' into the list\n",
    "\n",
    "- Try to perform one operation on each removal operation on lists \n",
    "\n",
    "1. del\n",
    "2. remove\n",
    "3. pop\n",
    "- Try to perform one operation on each operational\n",
    "1. append\n",
    "2. entend\n",
    "3. insert</div>"
   ]
  },
  {
   "cell_type": "code",
   "execution_count": 4,
   "metadata": {},
   "outputs": [
    {
     "name": "stdout",
     "output_type": "stream",
     "text": [
      "Extracted Tuple: (1, 2, 3, 4, 5, 'Is this tuple?')\n",
      "Can we add elements to a tuple? No, tuples are immutable.\n",
      "List after removing '1682' and 'New York': ['Bengaluru', 1971, (1, 2, 3, 4, 5, 'Is this tuple?'), \"'Hello, welcome to Python Programming'\"]\n",
      "Practical application: Lists for dynamic collections like shopping carts, tuples for fixed data like coordinates.\n",
      "Access 'Bengaluru' using negative indexing: Bengaluru\n",
      "List after adding 'Mumbai': ['Bengaluru', 1971, (1, 2, 3, 4, 5, 'Is this tuple?'), \"'Hello, welcome to Python Programming'\", 'Mumbai']\n",
      "List after del operation: ['Bengaluru', 1971, \"'Hello, welcome to Python Programming'\", 'Mumbai']\n",
      "List after remove operation: ['Bengaluru', 1971, \"'Hello, welcome to Python Programming'\"]\n",
      "List after pop operation: ['Bengaluru', 1971]\n",
      "Popped item: 'Hello, welcome to Python Programming'\n",
      "List after append operation: ['Bengaluru', 1971, 'Chennai']\n",
      "List after extend operation: ['Bengaluru', 1971, 'Chennai', 'Hyderabad', 'Delhi']\n",
      "List after insert operation: ['Bengaluru', 'Goa', 1971, 'Chennai', 'Hyderabad', 'Delhi']\n"
     ]
    }
   ],
   "source": [
    "#start your code here\n",
    "# Create a list with the given elements\n",
    "my_list = ['Bengaluru', 'New York', 1971, '1682', (1, 2, 3, 4, 5, 'Is this tuple?'), \"'Hello, welcome to Python Programming'\"]\n",
    "\n",
    "# 1. Extract the entire tuple using positive indexing\n",
    "my_tuple = my_list[4]\n",
    "print(\"Extracted Tuple:\", my_tuple)\n",
    "\n",
    "# 2. Can we add elements into tuple after creating it?\n",
    "# Tuples are immutable, so we cannot add or modify elements in a tuple once it's created.\n",
    "print(\"Can we add elements to a tuple? No, tuples are immutable.\")\n",
    "\n",
    "# 3. Remove '1682' and 'New York' from the list\n",
    "my_list.remove('1682')  # Using remove method\n",
    "del my_list[1]  # Using del method to remove 'New York'\n",
    "\n",
    "print(\"List after removing '1682' and 'New York':\", my_list)\n",
    "\n",
    "# 4. Practical application of tuple and lists\n",
    "# Lists are mutable, so they are good for storing collections that may change (e.g., shopping carts).\n",
    "# Tuples are immutable, so they are used for fixed data sets (e.g., coordinates or database keys).\n",
    "\n",
    "print(\"Practical application: Lists for dynamic collections like shopping carts, tuples for fixed data like coordinates.\")\n",
    "\n",
    "# 5. Access 'Bengaluru' by negative indexing\n",
    "print(\"Access 'Bengaluru' using negative indexing:\", my_list[-4])\n",
    "\n",
    "# 6. Add 'Mumbai' into the list\n",
    "my_list.append('Mumbai')\n",
    "print(\"List after adding 'Mumbai':\", my_list)\n",
    "\n",
    "# Removal operations on lists\n",
    "# 1. del\n",
    "del my_list[2]  # Removing the element at index 2 (1971)\n",
    "print(\"List after del operation:\", my_list)\n",
    "\n",
    "# 2. remove\n",
    "my_list.remove('Mumbai')  # Remove 'Mumbai'\n",
    "print(\"List after remove operation:\", my_list)\n",
    "\n",
    "# 3. pop\n",
    "popped_item = my_list.pop()  # Remove the last item\n",
    "print(\"List after pop operation:\", my_list)\n",
    "print(\"Popped item:\", popped_item)\n",
    "\n",
    "# Operations on lists\n",
    "# 1. append\n",
    "my_list.append('Chennai')  # Add 'Chennai' to the list\n",
    "print(\"List after append operation:\", my_list)\n",
    "\n",
    "# 2. extend\n",
    "my_list.extend(['Hyderabad', 'Delhi'])  # Add multiple elements to the list\n",
    "print(\"List after extend operation:\", my_list)\n",
    "\n",
    "# 3. insert\n",
    "my_list.insert(1, 'Goa')  # Insert 'Goa' at index 1\n",
    "print(\"List after insert operation:\", my_list)"
   ]
  },
  {
   "cell_type": "markdown",
   "metadata": {
    "delateable": false,
    "editable": false
   },
   "source": [
    "<div class=\"warning\" style='padding:0.1em; background-color:#E9D8FD; color:#69337A'>\n",
    "<span>\n",
    "<p style='margin-top:1em; text-align:left'>\n",
    "<b>7. Write a python program which can calculate the electricity bill by considering the no. of units consumed and other parameters are mentioned below.</b></p>\n",
    "</span>  \n",
    "\n",
    "- If units consumed is less than 50 then bill amount should be 100INR.\n",
    "- If units consumed between 50 - 300 then each unit will be charged at 4.5 INR.\n",
    "- If units are consumed more than 300 then that billed individual have to pay base pay as 1000INR and 300 units will be reduced from his total consumed units and for remaining units 7 INR will be charged for each unit.\n",
    "</div>\n",
    "\n",
    "\n"
   ]
  },
  {
   "cell_type": "code",
   "execution_count": 9,
   "metadata": {},
   "outputs": [
    {
     "name": "stdout",
     "output_type": "stream",
     "text": [
      "Total electricity bill for 500.0 units is: 2400.0 INR\n"
     ]
    }
   ],
   "source": [
    "#start your code here\n",
    "# Function to calculate the electricity bill\n",
    "def calculate_electricity_bill(units_consumed):\n",
    "    if units_consumed < 50:\n",
    "        # If units consumed are less than 50, the bill amount is 100 INR\n",
    "        bill_amount = 100\n",
    "    elif 50 <= units_consumed <= 300:\n",
    "        # If units consumed are between 50 and 300, charge 4.5 INR per unit\n",
    "        bill_amount = units_consumed * 4.5\n",
    "    else:\n",
    "        # If units consumed are more than 300, base pay is 1000 INR\n",
    "        bill_amount = 1000\n",
    "        # Subtract 300 units and charge 7 INR for remaining units\n",
    "        extra_units = units_consumed - 300\n",
    "        bill_amount += extra_units * 7\n",
    "        \n",
    "    return bill_amount\n",
    "\n",
    "# Get the number of units consumed from user input\n",
    "units = float(input(\"Enter the number of units consumed: \"))\n",
    "\n",
    "# Calculate the bill\n",
    "bill = calculate_electricity_bill(units)\n",
    "\n",
    "# Display the result\n",
    "print(f\"Total electricity bill for {units} units is: {bill} INR\")"
   ]
  },
  {
   "cell_type": "markdown",
   "metadata": {
    "delateable": false,
    "editable": false
   },
   "source": [
    "<div class=\"warning\" style='padding:0.1em; background-color:#E9D8FD; color:#69337A'>\n",
    "<span>\n",
    "<p style='margin-top:1em; text-align:left'>\n",
    "<b>8. Write a program to calculate the tax of the vehicle based on the price.</b></p>\n",
    "</span>  \n",
    "- below are the parameters to consider\n",
    "\n",
    "    Cost price (in Rs)                                            Tax\n",
    "        > 150000                                                   18%\n",
    "        >100000 and <=150000                                       15 %\n",
    "        > 0 and <= 100000                                          10%\n",
    "         \n",
    "        "
   ]
  },
  {
   "cell_type": "code",
   "execution_count": 10,
   "metadata": {},
   "outputs": [
    {
     "name": "stdout",
     "output_type": "stream",
     "text": [
      "The tax on the vehicle with a cost price of Rs 200.0 is: Rs 20.00\n"
     ]
    }
   ],
   "source": [
    "#start your code here\n",
    "# Function to calculate the vehicle tax based on the cost price\n",
    "def calculate_vehicle_tax(cost_price):\n",
    "    if cost_price > 150000:\n",
    "        # If the cost price is greater than 150000, tax is 18%\n",
    "        tax = cost_price * 0.18\n",
    "    elif 100000 < cost_price <= 150000:\n",
    "        # If the cost price is between 100001 and 150000, tax is 15%\n",
    "        tax = cost_price * 0.15\n",
    "    elif 0 < cost_price <= 100000:\n",
    "        # If the cost price is between 0 and 100000, tax is 10%\n",
    "        tax = cost_price * 0.10\n",
    "    else:\n",
    "        # If the cost price is invalid (less than or equal to 0)\n",
    "        return \"Invalid cost price\"\n",
    "    \n",
    "    return tax\n",
    "\n",
    "# Get the cost price from user input\n",
    "cost_price = float(input(\"Enter the cost price of the vehicle (in Rs): \"))\n",
    "\n",
    "# Calculate the tax\n",
    "tax_amount = calculate_vehicle_tax(cost_price)\n",
    "\n",
    "# Display the result\n",
    "if tax_amount == \"Invalid cost price\":\n",
    "    print(tax_amount)\n",
    "else:\n",
    "    print(f\"The tax on the vehicle with a cost price of Rs {cost_price} is: Rs {tax_amount:.2f}\")"
   ]
  },
  {
   "cell_type": "markdown",
   "metadata": {
    "delateable": false,
    "editable": false
   },
   "source": [
    "<div class=\"warning\" style='padding:0.1em; background-color:#E9D8FD; color:#69337A'>\n",
    "<span>\n",
    "<p style='margin-top:1em; text-align:left'>\n",
    "<b>9. Write a program to check if the input is positive or negative.</b></p>\n",
    "</span></div>\n",
    "\n"
   ]
  },
  {
   "cell_type": "code",
   "execution_count": 11,
   "metadata": {},
   "outputs": [
    {
     "name": "stdout",
     "output_type": "stream",
     "text": [
      "The number 860.0 is positive.\n"
     ]
    }
   ],
   "source": [
    "#start your code here\n",
    "# Get a number from user input\n",
    "number = float(input(\"Enter a number: \"))\n",
    "\n",
    "# Check if the number is positive, negative, or zero\n",
    "if number > 0:\n",
    "    print(f\"The number {number} is positive.\")\n",
    "elif number < 0:\n",
    "    print(f\"The number {number} is negative.\")\n",
    "else:\n",
    "    print(f\"The number {number} is zero.\")"
   ]
  },
  {
   "cell_type": "markdown",
   "metadata": {
    "delateable": false,
    "editable": false
   },
   "source": [
    "<div class=\"warning\" style='padding:0.1em; background-color:#E9D8FD; color:#69337A'>\n",
    "<span>\n",
    "<p style='margin-top:1em; text-align:left'>\n",
    "<b>10. Define a function which can multiply the string with n number of times.</b></p>\n",
    "</span>\n",
    "\n",
    " \n",
    "- string = \"python programming\"</div>\n"
   ]
  },
  {
   "cell_type": "code",
   "execution_count": 12,
   "metadata": {},
   "outputs": [
    {
     "name": "stdout",
     "output_type": "stream",
     "text": [
      "python programmingpython programmingpython programmingpython programmingpython programmingpython programmingpython programmingpython programmingpython programmingpython programming\n"
     ]
    }
   ],
   "source": [
    "#start your code here\n",
    "# Define a function to multiply the string n times\n",
    "def multiply_string(string, n):\n",
    "    return string * n\n",
    "\n",
    "# String to be multiplied\n",
    "string = \"python programming\"\n",
    "\n",
    "# Get the number of times to multiply the string from user input\n",
    "n = int(input(\"Enter the number of times to multiply the string: \"))\n",
    "\n",
    "# Call the function and print the result\n",
    "result = multiply_string(string, n)\n",
    "print(result)"
   ]
  },
  {
   "cell_type": "markdown",
   "metadata": {
    "delateable": false,
    "editable": false
   },
   "source": [
    "<div class=\"warning\" style='padding:0.1em; background-color:#E9D8FD; color:#69337A'>\n",
    "<span>\n",
    "<p style='margin-top:1em; text-align:left'>\n",
    "<b>11. Define a function which can sum up two numbers.</b></p>\n",
    "</span>\n",
    "\n"
   ]
  },
  {
   "cell_type": "code",
   "execution_count": 13,
   "metadata": {},
   "outputs": [
    {
     "name": "stdout",
     "output_type": "stream",
     "text": [
      "The sum of 500.0 and 400.0 is: 900.0\n"
     ]
    }
   ],
   "source": [
    "#start your code here\n",
    "# Define a function to sum two numbers\n",
    "def sum_two_numbers(a, b):\n",
    "    return a + b\n",
    "\n",
    "# Get two numbers from user input\n",
    "num1 = float(input(\"Enter the first number: \"))\n",
    "num2 = float(input(\"Enter the second number: \"))\n",
    "\n",
    "# Call the function and display the result\n",
    "result = sum_two_numbers(num1, num2)\n",
    "print(f\"The sum of {num1} and {num2} is: {result}\")"
   ]
  },
  {
   "cell_type": "markdown",
   "metadata": {
    "delateable": false,
    "editable": false
   },
   "source": [
    "<div class=\"warning\" style='padding:0.1em; background-color:#E9D8FD; color:#69337A'>\n",
    "<span>\n",
    "<p style='margin-top:1em; text-align:left'>\n",
    "<b>12. Define a function which can identify if a user has entered specific string or not.</b></p>\n",
    "</span>\n",
    "\n",
    " \n",
    "- specified string = \"India\"</div>\n",
    "\n"
   ]
  },
  {
   "cell_type": "code",
   "execution_count": 16,
   "metadata": {},
   "outputs": [
    {
     "name": "stdout",
     "output_type": "stream",
     "text": [
      "The string contains 'India'.\n"
     ]
    }
   ],
   "source": [
    "#start your code here\n",
    "# Define a function to check if the user input contains the specific string \"India\"\n",
    "def check_for_india(user_input):\n",
    "    if \"India\" in user_input:\n",
    "        return True\n",
    "    else:\n",
    "        return False\n",
    "\n",
    "# Get input from the user\n",
    "user_input = input(\"Enter a string: \")\n",
    "\n",
    "# Call the function and display the result\n",
    "if check_for_india(user_input):\n",
    "    print(\"The string contains 'India'.\")\n",
    "else:\n",
    "    print(\"The string does not contain 'India'.\")"
   ]
  },
  {
   "cell_type": "markdown",
   "metadata": {
    "delateable": false,
    "editable": false
   },
   "source": [
    "<div class=\"warning\" style='padding:0.1em; background-color:#E9D8FD; color:#69337A'>\n",
    "<span>\n",
    "<p style='margin-top:1em; text-align:left'>\n",
    "<b>13. Define a function which will greet by taking user name as input.</b></p>\n",
    "</span>\n",
    " \n",
    "- input = name\n",
    "- hello 'name', hope you are doing well</div>\n",
    "\n",
    "\n",
    "\n"
   ]
  },
  {
   "cell_type": "code",
   "execution_count": 17,
   "metadata": {},
   "outputs": [
    {
     "name": "stdout",
     "output_type": "stream",
     "text": [
      "Hello Logesh, hope you are doing well!\n"
     ]
    }
   ],
   "source": [
    "#start your code here\n",
    "def greet_user(name):\n",
    "    print(f\"Hello {name}, hope you are doing well!\")\n",
    "\n",
    "# Example usage\n",
    "user_name = input(\"Please enter your name: \")\n",
    "greet_user(user_name)"
   ]
  },
  {
   "cell_type": "markdown",
   "metadata": {
    "delateable": false,
    "editable": false
   },
   "source": [
    "<div class=\"warning\" style='padding:0.1em; background-color:#E9D8FD; color:#69337A'>\n",
    "<span>\n",
    "<p style='margin-top:1em; text-align:left'>\n",
    "<b>14. Define a function which can give us the entire prime numbers within the given range.</b></p>\n",
    "<b>- For range(), input should be taken from the user.</b></p>\n",
    "</span>\n",
    "</div>\n",
    "\n"
   ]
  },
  {
   "cell_type": "code",
   "execution_count": 18,
   "metadata": {},
   "outputs": [
    {
     "name": "stdout",
     "output_type": "stream",
     "text": [
      "Prime numbers between 0 and 1000: [2, 3, 5, 7, 11, 13, 17, 19, 23, 29, 31, 37, 41, 43, 47, 53, 59, 61, 67, 71, 73, 79, 83, 89, 97, 101, 103, 107, 109, 113, 127, 131, 137, 139, 149, 151, 157, 163, 167, 173, 179, 181, 191, 193, 197, 199, 211, 223, 227, 229, 233, 239, 241, 251, 257, 263, 269, 271, 277, 281, 283, 293, 307, 311, 313, 317, 331, 337, 347, 349, 353, 359, 367, 373, 379, 383, 389, 397, 401, 409, 419, 421, 431, 433, 439, 443, 449, 457, 461, 463, 467, 479, 487, 491, 499, 503, 509, 521, 523, 541, 547, 557, 563, 569, 571, 577, 587, 593, 599, 601, 607, 613, 617, 619, 631, 641, 643, 647, 653, 659, 661, 673, 677, 683, 691, 701, 709, 719, 727, 733, 739, 743, 751, 757, 761, 769, 773, 787, 797, 809, 811, 821, 823, 827, 829, 839, 853, 857, 859, 863, 877, 881, 883, 887, 907, 911, 919, 929, 937, 941, 947, 953, 967, 971, 977, 983, 991, 997]\n"
     ]
    }
   ],
   "source": [
    "#start your code here\n",
    "def is_prime(num):\n",
    "    \"\"\"Check if a number is prime.\"\"\"\n",
    "    if num <= 1:\n",
    "        return False\n",
    "    for i in range(2, int(num**0.5) + 1):\n",
    "        if num % i == 0:\n",
    "            return False\n",
    "    return True\n",
    "\n",
    "def prime_numbers_in_range(start, end):\n",
    "    \"\"\"Return a list of prime numbers in the given range.\"\"\"\n",
    "    primes = []\n",
    "    for num in range(start, end + 1):\n",
    "        if is_prime(num):\n",
    "            primes.append(num)\n",
    "    return primes\n",
    "\n",
    "# Get user input for the range\n",
    "start_range = int(input(\"Enter the starting number of the range: \"))\n",
    "end_range = int(input(\"Enter the ending number of the range: \"))\n",
    "\n",
    "# Get the list of prime numbers in the specified range\n",
    "prime_numbers = prime_numbers_in_range(start_range, end_range)\n",
    "\n",
    "# Print the result\n",
    "print(f\"Prime numbers between {start_range} and {end_range}: {prime_numbers}\")"
   ]
  },
  {
   "cell_type": "markdown",
   "metadata": {
    "delateable": false,
    "editable": false
   },
   "source": [
    "<div class=\"warning\" style='padding:0.1em; background-color:#E9D8FD; color:#69337A'>\n",
    "<span>\n",
    "<p style='margin-top:1em; text-align:left'>\n",
    "<b>15.Check if a given string is palindrome.\n",
    "</b></p>\n",
    "</span>\n",
    "<br> A string is palindrome if the reverse of the string is same as itself.\n",
    "<br> For eg. madam\n",
    "<br> Print \" `string` is palindrome\" if it is palindrome \n",
    "<br> else \" `string` is not a palindrome\" if it is not a palindrome.\n",
    "\n",
    "<br><b> Hint : Use slicing to get reverse of the string.\n"
   ]
  },
  {
   "cell_type": "code",
   "execution_count": 19,
   "metadata": {},
   "outputs": [
    {
     "name": "stdout",
     "output_type": "stream",
     "text": [
      "\"madam\" is a palindrome.\n"
     ]
    }
   ],
   "source": [
    "#start your code here\n",
    "def check_palindrome(string):\n",
    "    \"\"\"Check if the given string is a palindrome.\"\"\"\n",
    "    # Remove spaces and convert to lowercase for uniformity\n",
    "    cleaned_string = string.replace(\" \", \"\").lower()\n",
    "    \n",
    "    # Check if the cleaned string is the same as its reverse\n",
    "    if cleaned_string == cleaned_string[::-1]:\n",
    "        print(f'\"{string}\" is a palindrome.')\n",
    "    else:\n",
    "        print(f'\"{string}\" is not a palindrome.')\n",
    "\n",
    "# Example usage\n",
    "user_input = input(\"Enter a string: \")\n",
    "check_palindrome(user_input)"
   ]
  },
  {
   "cell_type": "markdown",
   "metadata": {
    "delateable": false,
    "editable": false
   },
   "source": [
    "<div class=\"warning\" style='padding:0.1em; background-color:#E9D8FD; color:#69337A'>\n",
    "<span>\n",
    "<p style='margin-top:1em; text-align:left'>\n",
    "<b>16. Write a python program to find n is a leap year.\n",
    "</b></p>\n",
    "</span>\n",
    "<br> Print \"n is a leap year\" if the given year is leap year.\n",
    "<br> Print \"n is not a leap year\" if the given year is not leap year.\n",
    "<br> Replace n with given year.\n",
    "    \n",
    "<br><b>   Hint : Use nested if-else </b>\n",
    "</div>\n"
   ]
  },
  {
   "cell_type": "code",
   "execution_count": 20,
   "metadata": {},
   "outputs": [
    {
     "name": "stdout",
     "output_type": "stream",
     "text": [
      "2024 is a leap year.\n"
     ]
    }
   ],
   "source": [
    "#start your codes here\n",
    "def check_leap_year(year):\n",
    "    \"\"\"Check if the given year is a leap year.\"\"\"\n",
    "    if year % 4 == 0:  # Check if divisible by 4\n",
    "        if year % 100 == 0:  # Check if divisible by 100\n",
    "            if year % 400 == 0:  # Check if divisible by 400\n",
    "                print(f\"{year} is a leap year.\")\n",
    "            else:\n",
    "                print(f\"{year} is not a leap year.\")\n",
    "        else:\n",
    "            print(f\"{year} is a leap year.\")\n",
    "    else:\n",
    "        print(f\"{year} is not a leap year.\")\n",
    "\n",
    "# Example usage\n",
    "user_input = int(input(\"Enter a year: \"))\n",
    "check_leap_year(user_input)"
   ]
  },
  {
   "cell_type": "markdown",
   "metadata": {
    "delateable": false,
    "editable": false
   },
   "source": [
    "<div class=\"warning\" style='padding:0.1em; background-color:#E9D8FD; color:#69337A'>\n",
    "<span>\n",
    "<p style='margin-top:1em; text-align:left'>\n",
    "<b>17. Define a function to check if n is leap year.</b></p>\n",
    "</span>\n",
    "   \n",
    "<b> Hint: Using the calendar module </b>\n",
    "</div>\n"
   ]
  },
  {
   "cell_type": "code",
   "execution_count": 21,
   "metadata": {},
   "outputs": [
    {
     "name": "stdout",
     "output_type": "stream",
     "text": [
      "2032 is a leap year.\n"
     ]
    }
   ],
   "source": [
    "#start your codes here\n",
    "import calendar\n",
    "\n",
    "def is_leap_year(year):\n",
    "    \"\"\"Check if the given year is a leap year using the calendar module.\"\"\"\n",
    "    if calendar.isleap(year):\n",
    "        print(f\"{year} is a leap year.\")\n",
    "    else:\n",
    "        print(f\"{year} is not a leap year.\")\n",
    "\n",
    "# Example usage\n",
    "user_input = int(input(\"Enter a year: \"))\n",
    "is_leap_year(user_input)"
   ]
  },
  {
   "cell_type": "markdown",
   "metadata": {
    "delateable": false,
    "editable": false
   },
   "source": [
    "<div class=\"warning\" style='padding:0.1em; background-color:#E9D8FD; color:#69337A'>\n",
    "<span>\n",
    "<p style='margin-top:1em; text-align:left'>\n",
    "<b>18. Find the largest among three numbers.</b></p>\n",
    "</span>\n",
    "\n",
    " eg. Consider a,b,c as the three numbers, find which is the  largest number among them."
   ]
  },
  {
   "cell_type": "code",
   "execution_count": 22,
   "metadata": {},
   "outputs": [
    {
     "name": "stdout",
     "output_type": "stream",
     "text": [
      "The largest number among 10.0, 50.0, and 90.0 is: 90.0\n"
     ]
    }
   ],
   "source": [
    "#start your code here\n",
    "def find_largest(a, b, c):\n",
    "    \"\"\"Find the largest among three numbers.\"\"\"\n",
    "    if a >= b and a >= c:\n",
    "        return a\n",
    "    elif b >= a and b >= c:\n",
    "        return b\n",
    "    else:\n",
    "        return c\n",
    "\n",
    "# Example usage\n",
    "num1 = float(input(\"Enter the first number: \"))\n",
    "num2 = float(input(\"Enter the second number: \"))\n",
    "num3 = float(input(\"Enter the third number: \"))\n",
    "\n",
    "largest_number = find_largest(num1, num2, num3)\n",
    "print(f\"The largest number among {num1}, {num2}, and {num3} is: {largest_number}\")"
   ]
  },
  {
   "cell_type": "markdown",
   "metadata": {
    "delateable": false,
    "editable": false
   },
   "source": [
    "\n",
    "<div class=\"warning\" style='padding:0.1em; background-color:#E9D8FD; color:#69337A'>\n",
    "<span>\n",
    "<p style='margin-top:1em; text-align:left'>\n",
    "<b>19. Write a python program to print even numbers from 1 to 15 by using range() function.\n",
    "</b></p>\n",
    "</span>\n"
   ]
  },
  {
   "cell_type": "code",
   "execution_count": 23,
   "metadata": {},
   "outputs": [
    {
     "name": "stdout",
     "output_type": "stream",
     "text": [
      "2\n",
      "4\n",
      "6\n",
      "8\n",
      "10\n",
      "12\n",
      "14\n"
     ]
    }
   ],
   "source": [
    "#start your code here\n",
    "def print_even_numbers():\n",
    "    \"\"\"Print even numbers from 1 to 15.\"\"\"\n",
    "    for number in range(1, 16):  # Range goes from 1 to 15 (16 is not included)\n",
    "        if number % 2 == 0:  # Check if the number is even\n",
    "            print(number)\n",
    "\n",
    "# Call the function\n",
    "print_even_numbers()"
   ]
  },
  {
   "cell_type": "markdown",
   "metadata": {
    "delateable": false,
    "editable": false
   },
   "source": [
    "<div class=\"warning\" style='padding:0.1em; background-color:#E9D8FD; color:#69337A'>\n",
    "<span>\n",
    "<p style='margin-top:1em; text-align:left'>\n",
    "<b>20. Write a program to guess the integer which is selected by computer using  randint() function.\n",
    "</b></p>\n",
    "</span>\n",
    "\n",
    "- Use random() and randint().\n",
    "- Range should be 1 to 10.\n",
    "- If user's number is greater than 10 then program should say your guess is too high.\n",
    "- If user input is matches with the computer choice then your program should say \"yey! correct guess\".\n",
    "- Otherwise your program should say too low.\n",
    "\n",
    "    <b>- Important point to note is, this must be an iterative process until the correct guess.</div>"
   ]
  },
  {
   "cell_type": "code",
   "execution_count": 24,
   "metadata": {},
   "outputs": [
    {
     "name": "stdout",
     "output_type": "stream",
     "text": [
      "Too low. Try again!\n",
      "Too low. Try again!\n",
      "Too low. Try again!\n",
      "Too low. Try again!\n",
      "Too low. Try again!\n",
      "Too low. Try again!\n",
      "Too low. Try again!\n",
      "Too low. Try again!\n",
      "Too low. Try again!\n",
      "Too low. Try again!\n",
      "Too low. Try again!\n",
      "Too low. Try again!\n",
      "Too low. Try again!\n",
      "Too low. Try again!\n",
      "Too low. Try again!\n",
      "Yey! Correct guess.\n"
     ]
    }
   ],
   "source": [
    "#start your code here\n",
    "import random\n",
    "\n",
    "def guess_the_number():\n",
    "    \"\"\"A number guessing game where the user tries to guess the computer's number.\"\"\"\n",
    "    # Computer randomly selects a number between 1 and 10\n",
    "    computer_choice = random.randint(1, 10)\n",
    "    \n",
    "    while True:  # Start an infinite loop for guessing\n",
    "        user_guess = int(input(\"Guess the number (between 1 and 10): \"))\n",
    "        \n",
    "        # Check if the guess is out of range\n",
    "        if user_guess > 10:\n",
    "            print(\"Your guess is too high.\")\n",
    "        elif user_guess == computer_choice:\n",
    "            print(\"Yey! Correct guess.\")\n",
    "            break  # Exit the loop if the guess is correct\n",
    "        else:\n",
    "            print(\"Too low. Try again!\")\n",
    "\n",
    "# Call the function to start the game\n",
    "guess_the_number()"
   ]
  }
 ],
 "metadata": {
  "kernelspec": {
   "display_name": "base",
   "language": "python",
   "name": "python3"
  },
  "language_info": {
   "codemirror_mode": {
    "name": "ipython",
    "version": 3
   },
   "file_extension": ".py",
   "mimetype": "text/x-python",
   "name": "python",
   "nbconvert_exporter": "python",
   "pygments_lexer": "ipython3",
   "version": "3.12.4"
  }
 },
 "nbformat": 4,
 "nbformat_minor": 4
}
